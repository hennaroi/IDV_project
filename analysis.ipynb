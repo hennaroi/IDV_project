{
 "cells": [
  {
   "cell_type": "code",
   "execution_count": 1,
   "metadata": {},
   "outputs": [],
   "source": [
    "import pandas as pd\n",
    "import numpy as np\n",
    "import plotly.express as px\n",
    "\n",
    "song_data = pd.read_csv('data/song_data_processed.csv')\n",
    "eurovision = pd.read_csv('data/eurovision_processed.csv')\n",
    "finals = pd.read_csv('data/finals_processed.csv')\n",
    "ogae_polls = pd.read_csv('data/ogae_polls.csv')\n",
    "world_polls = pd.read_csv('data/eurovisionworld_polls.csv')"
   ]
  },
  {
   "cell_type": "code",
   "execution_count": 171,
   "metadata": {},
   "outputs": [],
   "source": [
    "# Scatterplot: OGAE poll results and televoting points and total points in the final\n",
    "years = list(range(2016,2023))\n",
    "years.remove(2020)\n",
    "\n",
    "for year in years:\n",
    "    filename = 'data/points_' + str(year) + '.csv'\n",
    "    points = pd.read_csv(filename)\n",
    "    poll_countries = list(ogae_polls['Contestant'])\n",
    "\n",
    "    for country in poll_countries:\n",
    "        if country not in list(points['Contestant']):\n",
    "            points.loc[len(points.index)] = [country, 0, 0, 0]\n",
    "    \n",
    "    poll_points = list(ogae_polls[str(year)])\n",
    "    points['OGAE poll score'] = poll_points\n",
    "\n",
    "    titlename = 'Relationship of Televoting Points and Total Points and OGAE Poll Score in ' + str(year)\n",
    "    fig = px.scatter(points, x='OGAE poll score', y='Televoting score', hover_name='Contestant', text='Contestant', \n",
    "                     color='Total score', color_continuous_scale='Viridis',title=titlename)\n",
    "    fig.update_traces(textposition='top center')\n",
    "    #fig.show()\n",
    "    name = \"ogae_poll_and_tele_and_total_points_scatter/ogae_poll_and_tele_and_total_points_scatter_\" + str(year) + \".html\"\n",
    "    fig.write_html(name)"
   ]
  },
  {
   "cell_type": "code",
   "execution_count": 156,
   "metadata": {},
   "outputs": [],
   "source": [
    "# Scatterplot: Eurovisionworld poll results and televoting points and total points in the final\n",
    "years = list(range(2016,2023))\n",
    "years.remove(2020)\n",
    "\n",
    "for year in years:\n",
    "    filename = 'data/points_' + str(year) + '.csv'\n",
    "    points = pd.read_csv(filename)\n",
    "    poll_countries = list(world_polls['Contestant'])\n",
    "    \n",
    "    for country in poll_countries:\n",
    "        if country not in list(points['Contestant']):\n",
    "            points.loc[len(points.index)] = [country, 0, 0, 0]\n",
    "\n",
    "    poll_points = list(world_polls[str(year)])\n",
    "    points['Eurovisionworld poll score'] = poll_points\n",
    "\n",
    "    titlename = 'Relationship of Televoting Points and Total Points and Eurovisionworld Poll Score in ' + str(year)\n",
    "    fig = px.scatter(points, x='Eurovisionworld poll score', y='Televoting score', hover_name='Contestant', text='Contestant', \n",
    "                     color='Total score', color_continuous_scale='Viridis',title=titlename)\n",
    "    fig.update_traces(textposition='top center')\n",
    "    #fig.show()\n",
    "    name = \"eurovisionworld_poll_and_tele_and_total_points_scatter/eurovisionworld_poll_and_tele_and_total_points_scatter_\" + str(year) + \".html\"\n",
    "    fig.write_html(name)"
   ]
  },
  {
   "cell_type": "code",
   "execution_count": 155,
   "metadata": {},
   "outputs": [],
   "source": [
    "# Scatterplot: televote and jury points (in percentages) in the final by country\n",
    "years = list(range(2016,2023))\n",
    "years.remove(2020)\n",
    "\n",
    "for year in years:\n",
    "    filename = 'data/points_' + str(year) + '.csv'\n",
    "    points = pd.read_csv(filename)\n",
    "    titlename = 'Relationship of Jury points and Televoting Points in ' + str(year)\n",
    "    fig = px.scatter(points, x='Jury score', y='Televoting score', hover_name='Contestant', text='Contestant', color='Total score', \n",
    "                 color_continuous_scale='Viridis',\n",
    "                 title=titlename)\n",
    "    fig.update_traces(textposition='top center')\n",
    "    #fig.show()\n",
    "    name = \"jury_and_tele_points_scatter/jury_and_tele_points_scatter_\" + str(year) + \".html\"\n",
    "    fig.write_html(name)"
   ]
  },
  {
   "cell_type": "code",
   "execution_count": 2,
   "metadata": {},
   "outputs": [],
   "source": [
    "# Choropleth Map: number of victories\n",
    "data = finals[['Place', 'Country']]\n",
    "df = data.loc[data['Place'] == 1]\n",
    "\n",
    "country_counts = df.groupby('Country').count()['Place'].reset_index()\n",
    "country_counts.columns = ['Country', 'Victories']\n",
    "\n",
    "countries = data.groupby('Country').count().reset_index()\n",
    "countries.columns = ['Country', 'Number']\n",
    "countries_list = list(countries['Country'])\n",
    "\n",
    "for country in countries_list:\n",
    "    if country not in list(country_counts['Country']):\n",
    "        country_counts.loc[len(country_counts.index)] = [country, 0]\n",
    "\n",
    "fig = px.choropleth(\n",
    "    country_counts,\n",
    "    locations='Country', \n",
    "    color='Victories',\n",
    "    hover_name='Country',\n",
    "    color_continuous_scale='Viridis',\n",
    "    locationmode = 'country names'\n",
    ")\n",
    "#fig.show()\n",
    "name = \"numer_of_victories_map.html\"\n",
    "fig.write_html(name)"
   ]
  },
  {
   "cell_type": "code",
   "execution_count": 9,
   "metadata": {},
   "outputs": [],
   "source": [
    "# Scatter: country’s debut in the competition and the number of participations\n",
    "df = finals.groupby('Country').agg({'Year': 'min', 'Countries': 'count'}).reset_index()\n",
    "\n",
    "fig = px.line(df, x=\"Year\", y=\"Countries\", color='Country', markers=True, \n",
    "              title='Country’s debut in the competition and the number of participations')\n",
    "#fig.show()\n",
    "\n",
    "name = \"countrys_debut_and_numer_of_participations.html\"\n",
    "fig.write_html(name)"
   ]
  },
  {
   "cell_type": "code",
   "execution_count": 103,
   "metadata": {},
   "outputs": [],
   "source": [
    "# Column histogram: Number of participating countries each year\n",
    "import plotly.graph_objs as go\n",
    "yearly_counts = finals.groupby('Year')['Country'].nunique()\n",
    "\n",
    "fig = go.Figure(\n",
    "    go.Bar(\n",
    "        x=yearly_counts.index,\n",
    "        y=yearly_counts.values,\n",
    "    )\n",
    ")\n",
    "\n",
    "fig.update_layout(\n",
    "    title='Number of participating countries each year',\n",
    "    xaxis_title='Year',\n",
    "    yaxis_title='Number of participants'\n",
    ")\n",
    "\n",
    "#fig.show()\n",
    "name = \"number_of_participating_countries.html\"\n",
    "fig.write_html(name)"
   ]
  },
  {
   "cell_type": "code",
   "execution_count": null,
   "metadata": {},
   "outputs": [],
   "source": [
    "# Line chart: tempo (BPM) distribution by country and all time\n",
    "data = song_data[['country','BPM','year']]\n",
    "data = data.dropna()\n",
    "data = data.drop(data[data['BPM'] == '-'].index)\n",
    "data['BPM'] = [int(bpm) for bpm in data['BPM']]\n",
    "\n",
    "countries = list(data['country'].unique())\n",
    "countries = [x for x in countries if str(x) != 'nan']\n",
    "countries = sorted(countries)\n",
    "\n",
    "for country in countries:\n",
    "    df = data.loc[data['country'] == country]\n",
    "    counts = df.groupby('year').mean().reset_index()\n",
    "    pie_title = \"Tempo Distribution of Songs of \" + str(country) + \" Since 2009\"\n",
    "    fig = px.line(df, x=\"year\", y=\"BPM\", title=pie_title)\n",
    "    #fig.show()\n",
    "    name = \"tempo_line_country/tempo_line_country_\" + str(country) + \".html\"\n",
    "    fig.write_html(name)\n",
    "\n",
    "grouped_data = data.groupby('year').mean().reset_index()\n",
    "fig = px.line(grouped_data, x=\"year\", y=\"BPM\", title='Tempo Distribution of All Songs Since 2009')\n",
    "#fig.show()\n",
    "name = \"tempo_line_country/tempo_line_country_All.html\"\n",
    "fig.write_html(name)"
   ]
  },
  {
   "cell_type": "code",
   "execution_count": 55,
   "metadata": {},
   "outputs": [],
   "source": [
    "# Pie chart: tempo distribution by year\n",
    "data = song_data[['country','BPM','year']]\n",
    "data = data.dropna()\n",
    "data = data.drop(data[data['BPM'] == '-'].index)\n",
    "\n",
    "years = list(range(2009,2023))\n",
    "\n",
    "for year in years:\n",
    "    df = data.loc[data['year'] == year]\n",
    "    counts = df['BPM'].value_counts().reset_index()\n",
    "    counts.columns = ['BPM', 'count']\n",
    "    pie_title = \"Tempo Distribution of Songs in \" + str(year)\n",
    "    fig = px.pie(counts, values='count', names='BPM', title=pie_title)\n",
    "    #fig.show()\n",
    "    name = \"tempo_pie_year/tempo_pie_year_\" + str(year) + \".html\"\n",
    "    fig.write_html(name) \n"
   ]
  },
  {
   "cell_type": "code",
   "execution_count": 41,
   "metadata": {},
   "outputs": [],
   "source": [
    "# Pie chart: key distribution by year and country\n",
    "data = song_data[['country','key','year']]\n",
    "data = data.dropna()\n",
    "data = data.drop(data[data['key'] == '-'].index)\n",
    "\n",
    "years = list(range(2009,2023))\n",
    "\n",
    "for year in years:\n",
    "    df = data.loc[data['year'] == year]\n",
    "    counts = df['key'].value_counts().reset_index()\n",
    "    counts.columns = ['key', 'count']\n",
    "    pie_title = \"Key Distribution of Songs in \" + str(year)\n",
    "    fig = px.pie(counts, values='count', names='key', title=pie_title)\n",
    "    #fig.show()\n",
    "    name = \"key_pie_year/key_pie_year_\" + str(year) + \".html\"\n",
    "    fig.write_html(name) \n",
    "\n",
    "countries = list(data['country'].unique())\n",
    "countries = [x for x in countries if str(x) != 'nan']\n",
    "countries = sorted(countries)\n",
    "\n",
    "for country in countries:\n",
    "    df = data.loc[data['country'] == country]\n",
    "    counts = df['key'].value_counts().reset_index()\n",
    "    counts.columns = ['key', 'count']\n",
    "    pie_title = \"Key Distribution of Songs of \" + str(country) + \" Since 2009\"\n",
    "    fig = px.pie(counts, values='count', names='key', title=pie_title)\n",
    "    #fig.show()\n",
    "    name = \"key_pie_country/key_pie_country_\" + str(country) + \".html\"\n",
    "    fig.write_html(name) \n",
    "\n",
    "counts = data['key'].value_counts().reset_index()\n",
    "counts.columns = ['key', 'count']\n",
    "pie_title = \"Key Distribution of All Songs\"\n",
    "fig = px.pie(counts, values='count', names='key', title=pie_title)\n",
    "#fig.show()\n",
    "name = \"key_pie_year/key_pie_year_All.html\"\n",
    "fig.write_html(name) \n",
    "\n",
    "name = \"key_pie_country/key_pie_country_All.html\"\n",
    "fig.write_html(name)"
   ]
  },
  {
   "cell_type": "code",
   "execution_count": 34,
   "metadata": {},
   "outputs": [
    {
     "name": "stderr",
     "output_type": "stream",
     "text": [
      "C:\\Users\\henna\\AppData\\Local\\Temp\\ipykernel_6096\\347282326.py:12: FutureWarning:\n",
      "\n",
      "The default value of numeric_only in DataFrameGroupBy.mean is deprecated. In a future version, numeric_only will default to False. Either specify numeric_only or select only columns which should be valid for the function.\n",
      "\n"
     ]
    },
    {
     "data": {
      "application/vnd.plotly.v1+json": {
       "config": {
        "plotlyServerURL": "https://plot.ly"
       },
       "data": [
        {
         "alignmentgroup": "True",
         "hovertemplate": "Final running order=%{x}<br>Final points=%{y}<extra></extra>",
         "legendgroup": "",
         "marker": {
          "color": "#636efa",
          "pattern": {
           "shape": ""
          }
         },
         "name": "",
         "offsetgroup": "",
         "orientation": "v",
         "showlegend": false,
         "textposition": "auto",
         "type": "bar",
         "x": [
          1,
          2,
          3,
          4,
          5,
          6,
          7,
          8,
          9,
          10,
          11,
          12,
          13,
          14,
          15,
          16,
          17,
          18,
          19,
          20,
          21,
          22,
          23,
          24,
          25,
          26,
          27
         ],
         "xaxis": "x",
         "y": [
          103.92307692307692,
          64,
          141.53846153846155,
          95.3076923076923,
          126.76923076923077,
          147.07692307692307,
          196.3846153846154,
          140.92307692307693,
          169,
          175.69230769230768,
          283.15384615384613,
          213.54545454545453,
          185.84615384615384,
          128.30769230769232,
          133.76923076923077,
          110.76923076923077,
          159.76923076923077,
          167.76923076923077,
          191.07692307692307,
          264.53846153846155,
          139.46153846153845,
          195.69230769230768,
          146.15384615384616,
          208.15384615384616,
          224.53846153846155,
          136.875,
          527
         ],
         "yaxis": "y"
        }
       ],
       "layout": {
        "barmode": "relative",
        "legend": {
         "tracegroupgap": 0
        },
        "template": {
         "data": {
          "bar": [
           {
            "error_x": {
             "color": "#2a3f5f"
            },
            "error_y": {
             "color": "#2a3f5f"
            },
            "marker": {
             "line": {
              "color": "#E5ECF6",
              "width": 0.5
             },
             "pattern": {
              "fillmode": "overlay",
              "size": 10,
              "solidity": 0.2
             }
            },
            "type": "bar"
           }
          ],
          "barpolar": [
           {
            "marker": {
             "line": {
              "color": "#E5ECF6",
              "width": 0.5
             },
             "pattern": {
              "fillmode": "overlay",
              "size": 10,
              "solidity": 0.2
             }
            },
            "type": "barpolar"
           }
          ],
          "carpet": [
           {
            "aaxis": {
             "endlinecolor": "#2a3f5f",
             "gridcolor": "white",
             "linecolor": "white",
             "minorgridcolor": "white",
             "startlinecolor": "#2a3f5f"
            },
            "baxis": {
             "endlinecolor": "#2a3f5f",
             "gridcolor": "white",
             "linecolor": "white",
             "minorgridcolor": "white",
             "startlinecolor": "#2a3f5f"
            },
            "type": "carpet"
           }
          ],
          "choropleth": [
           {
            "colorbar": {
             "outlinewidth": 0,
             "ticks": ""
            },
            "type": "choropleth"
           }
          ],
          "contour": [
           {
            "colorbar": {
             "outlinewidth": 0,
             "ticks": ""
            },
            "colorscale": [
             [
              0,
              "#0d0887"
             ],
             [
              0.1111111111111111,
              "#46039f"
             ],
             [
              0.2222222222222222,
              "#7201a8"
             ],
             [
              0.3333333333333333,
              "#9c179e"
             ],
             [
              0.4444444444444444,
              "#bd3786"
             ],
             [
              0.5555555555555556,
              "#d8576b"
             ],
             [
              0.6666666666666666,
              "#ed7953"
             ],
             [
              0.7777777777777778,
              "#fb9f3a"
             ],
             [
              0.8888888888888888,
              "#fdca26"
             ],
             [
              1,
              "#f0f921"
             ]
            ],
            "type": "contour"
           }
          ],
          "contourcarpet": [
           {
            "colorbar": {
             "outlinewidth": 0,
             "ticks": ""
            },
            "type": "contourcarpet"
           }
          ],
          "heatmap": [
           {
            "colorbar": {
             "outlinewidth": 0,
             "ticks": ""
            },
            "colorscale": [
             [
              0,
              "#0d0887"
             ],
             [
              0.1111111111111111,
              "#46039f"
             ],
             [
              0.2222222222222222,
              "#7201a8"
             ],
             [
              0.3333333333333333,
              "#9c179e"
             ],
             [
              0.4444444444444444,
              "#bd3786"
             ],
             [
              0.5555555555555556,
              "#d8576b"
             ],
             [
              0.6666666666666666,
              "#ed7953"
             ],
             [
              0.7777777777777778,
              "#fb9f3a"
             ],
             [
              0.8888888888888888,
              "#fdca26"
             ],
             [
              1,
              "#f0f921"
             ]
            ],
            "type": "heatmap"
           }
          ],
          "heatmapgl": [
           {
            "colorbar": {
             "outlinewidth": 0,
             "ticks": ""
            },
            "colorscale": [
             [
              0,
              "#0d0887"
             ],
             [
              0.1111111111111111,
              "#46039f"
             ],
             [
              0.2222222222222222,
              "#7201a8"
             ],
             [
              0.3333333333333333,
              "#9c179e"
             ],
             [
              0.4444444444444444,
              "#bd3786"
             ],
             [
              0.5555555555555556,
              "#d8576b"
             ],
             [
              0.6666666666666666,
              "#ed7953"
             ],
             [
              0.7777777777777778,
              "#fb9f3a"
             ],
             [
              0.8888888888888888,
              "#fdca26"
             ],
             [
              1,
              "#f0f921"
             ]
            ],
            "type": "heatmapgl"
           }
          ],
          "histogram": [
           {
            "marker": {
             "pattern": {
              "fillmode": "overlay",
              "size": 10,
              "solidity": 0.2
             }
            },
            "type": "histogram"
           }
          ],
          "histogram2d": [
           {
            "colorbar": {
             "outlinewidth": 0,
             "ticks": ""
            },
            "colorscale": [
             [
              0,
              "#0d0887"
             ],
             [
              0.1111111111111111,
              "#46039f"
             ],
             [
              0.2222222222222222,
              "#7201a8"
             ],
             [
              0.3333333333333333,
              "#9c179e"
             ],
             [
              0.4444444444444444,
              "#bd3786"
             ],
             [
              0.5555555555555556,
              "#d8576b"
             ],
             [
              0.6666666666666666,
              "#ed7953"
             ],
             [
              0.7777777777777778,
              "#fb9f3a"
             ],
             [
              0.8888888888888888,
              "#fdca26"
             ],
             [
              1,
              "#f0f921"
             ]
            ],
            "type": "histogram2d"
           }
          ],
          "histogram2dcontour": [
           {
            "colorbar": {
             "outlinewidth": 0,
             "ticks": ""
            },
            "colorscale": [
             [
              0,
              "#0d0887"
             ],
             [
              0.1111111111111111,
              "#46039f"
             ],
             [
              0.2222222222222222,
              "#7201a8"
             ],
             [
              0.3333333333333333,
              "#9c179e"
             ],
             [
              0.4444444444444444,
              "#bd3786"
             ],
             [
              0.5555555555555556,
              "#d8576b"
             ],
             [
              0.6666666666666666,
              "#ed7953"
             ],
             [
              0.7777777777777778,
              "#fb9f3a"
             ],
             [
              0.8888888888888888,
              "#fdca26"
             ],
             [
              1,
              "#f0f921"
             ]
            ],
            "type": "histogram2dcontour"
           }
          ],
          "mesh3d": [
           {
            "colorbar": {
             "outlinewidth": 0,
             "ticks": ""
            },
            "type": "mesh3d"
           }
          ],
          "parcoords": [
           {
            "line": {
             "colorbar": {
              "outlinewidth": 0,
              "ticks": ""
             }
            },
            "type": "parcoords"
           }
          ],
          "pie": [
           {
            "automargin": true,
            "type": "pie"
           }
          ],
          "scatter": [
           {
            "fillpattern": {
             "fillmode": "overlay",
             "size": 10,
             "solidity": 0.2
            },
            "type": "scatter"
           }
          ],
          "scatter3d": [
           {
            "line": {
             "colorbar": {
              "outlinewidth": 0,
              "ticks": ""
             }
            },
            "marker": {
             "colorbar": {
              "outlinewidth": 0,
              "ticks": ""
             }
            },
            "type": "scatter3d"
           }
          ],
          "scattercarpet": [
           {
            "marker": {
             "colorbar": {
              "outlinewidth": 0,
              "ticks": ""
             }
            },
            "type": "scattercarpet"
           }
          ],
          "scattergeo": [
           {
            "marker": {
             "colorbar": {
              "outlinewidth": 0,
              "ticks": ""
             }
            },
            "type": "scattergeo"
           }
          ],
          "scattergl": [
           {
            "marker": {
             "colorbar": {
              "outlinewidth": 0,
              "ticks": ""
             }
            },
            "type": "scattergl"
           }
          ],
          "scattermapbox": [
           {
            "marker": {
             "colorbar": {
              "outlinewidth": 0,
              "ticks": ""
             }
            },
            "type": "scattermapbox"
           }
          ],
          "scatterpolar": [
           {
            "marker": {
             "colorbar": {
              "outlinewidth": 0,
              "ticks": ""
             }
            },
            "type": "scatterpolar"
           }
          ],
          "scatterpolargl": [
           {
            "marker": {
             "colorbar": {
              "outlinewidth": 0,
              "ticks": ""
             }
            },
            "type": "scatterpolargl"
           }
          ],
          "scatterternary": [
           {
            "marker": {
             "colorbar": {
              "outlinewidth": 0,
              "ticks": ""
             }
            },
            "type": "scatterternary"
           }
          ],
          "surface": [
           {
            "colorbar": {
             "outlinewidth": 0,
             "ticks": ""
            },
            "colorscale": [
             [
              0,
              "#0d0887"
             ],
             [
              0.1111111111111111,
              "#46039f"
             ],
             [
              0.2222222222222222,
              "#7201a8"
             ],
             [
              0.3333333333333333,
              "#9c179e"
             ],
             [
              0.4444444444444444,
              "#bd3786"
             ],
             [
              0.5555555555555556,
              "#d8576b"
             ],
             [
              0.6666666666666666,
              "#ed7953"
             ],
             [
              0.7777777777777778,
              "#fb9f3a"
             ],
             [
              0.8888888888888888,
              "#fdca26"
             ],
             [
              1,
              "#f0f921"
             ]
            ],
            "type": "surface"
           }
          ],
          "table": [
           {
            "cells": {
             "fill": {
              "color": "#EBF0F8"
             },
             "line": {
              "color": "white"
             }
            },
            "header": {
             "fill": {
              "color": "#C8D4E3"
             },
             "line": {
              "color": "white"
             }
            },
            "type": "table"
           }
          ]
         },
         "layout": {
          "annotationdefaults": {
           "arrowcolor": "#2a3f5f",
           "arrowhead": 0,
           "arrowwidth": 1
          },
          "autotypenumbers": "strict",
          "coloraxis": {
           "colorbar": {
            "outlinewidth": 0,
            "ticks": ""
           }
          },
          "colorscale": {
           "diverging": [
            [
             0,
             "#8e0152"
            ],
            [
             0.1,
             "#c51b7d"
            ],
            [
             0.2,
             "#de77ae"
            ],
            [
             0.3,
             "#f1b6da"
            ],
            [
             0.4,
             "#fde0ef"
            ],
            [
             0.5,
             "#f7f7f7"
            ],
            [
             0.6,
             "#e6f5d0"
            ],
            [
             0.7,
             "#b8e186"
            ],
            [
             0.8,
             "#7fbc41"
            ],
            [
             0.9,
             "#4d9221"
            ],
            [
             1,
             "#276419"
            ]
           ],
           "sequential": [
            [
             0,
             "#0d0887"
            ],
            [
             0.1111111111111111,
             "#46039f"
            ],
            [
             0.2222222222222222,
             "#7201a8"
            ],
            [
             0.3333333333333333,
             "#9c179e"
            ],
            [
             0.4444444444444444,
             "#bd3786"
            ],
            [
             0.5555555555555556,
             "#d8576b"
            ],
            [
             0.6666666666666666,
             "#ed7953"
            ],
            [
             0.7777777777777778,
             "#fb9f3a"
            ],
            [
             0.8888888888888888,
             "#fdca26"
            ],
            [
             1,
             "#f0f921"
            ]
           ],
           "sequentialminus": [
            [
             0,
             "#0d0887"
            ],
            [
             0.1111111111111111,
             "#46039f"
            ],
            [
             0.2222222222222222,
             "#7201a8"
            ],
            [
             0.3333333333333333,
             "#9c179e"
            ],
            [
             0.4444444444444444,
             "#bd3786"
            ],
            [
             0.5555555555555556,
             "#d8576b"
            ],
            [
             0.6666666666666666,
             "#ed7953"
            ],
            [
             0.7777777777777778,
             "#fb9f3a"
            ],
            [
             0.8888888888888888,
             "#fdca26"
            ],
            [
             1,
             "#f0f921"
            ]
           ]
          },
          "colorway": [
           "#636efa",
           "#EF553B",
           "#00cc96",
           "#ab63fa",
           "#FFA15A",
           "#19d3f3",
           "#FF6692",
           "#B6E880",
           "#FF97FF",
           "#FECB52"
          ],
          "font": {
           "color": "#2a3f5f"
          },
          "geo": {
           "bgcolor": "white",
           "lakecolor": "white",
           "landcolor": "#E5ECF6",
           "showlakes": true,
           "showland": true,
           "subunitcolor": "white"
          },
          "hoverlabel": {
           "align": "left"
          },
          "hovermode": "closest",
          "mapbox": {
           "style": "light"
          },
          "paper_bgcolor": "white",
          "plot_bgcolor": "#E5ECF6",
          "polar": {
           "angularaxis": {
            "gridcolor": "white",
            "linecolor": "white",
            "ticks": ""
           },
           "bgcolor": "#E5ECF6",
           "radialaxis": {
            "gridcolor": "white",
            "linecolor": "white",
            "ticks": ""
           }
          },
          "scene": {
           "xaxis": {
            "backgroundcolor": "#E5ECF6",
            "gridcolor": "white",
            "gridwidth": 2,
            "linecolor": "white",
            "showbackground": true,
            "ticks": "",
            "zerolinecolor": "white"
           },
           "yaxis": {
            "backgroundcolor": "#E5ECF6",
            "gridcolor": "white",
            "gridwidth": 2,
            "linecolor": "white",
            "showbackground": true,
            "ticks": "",
            "zerolinecolor": "white"
           },
           "zaxis": {
            "backgroundcolor": "#E5ECF6",
            "gridcolor": "white",
            "gridwidth": 2,
            "linecolor": "white",
            "showbackground": true,
            "ticks": "",
            "zerolinecolor": "white"
           }
          },
          "shapedefaults": {
           "line": {
            "color": "#2a3f5f"
           }
          },
          "ternary": {
           "aaxis": {
            "gridcolor": "white",
            "linecolor": "white",
            "ticks": ""
           },
           "baxis": {
            "gridcolor": "white",
            "linecolor": "white",
            "ticks": ""
           },
           "bgcolor": "#E5ECF6",
           "caxis": {
            "gridcolor": "white",
            "linecolor": "white",
            "ticks": ""
           }
          },
          "title": {
           "x": 0.05
          },
          "xaxis": {
           "automargin": true,
           "gridcolor": "white",
           "linecolor": "white",
           "ticks": "",
           "title": {
            "standoff": 15
           },
           "zerolinecolor": "white",
           "zerolinewidth": 2
          },
          "yaxis": {
           "automargin": true,
           "gridcolor": "white",
           "linecolor": "white",
           "ticks": "",
           "title": {
            "standoff": 15
           },
           "zerolinecolor": "white",
           "zerolinewidth": 2
          }
         }
        },
        "title": {
         "text": "Running Order Number in the Final and the Number of Points Since 2009"
        },
        "xaxis": {
         "anchor": "y",
         "domain": [
          0,
          1
         ],
         "title": {
          "text": "Final running order"
         }
        },
        "yaxis": {
         "anchor": "x",
         "domain": [
          0,
          1
         ],
         "title": {
          "text": "Final points"
         }
        }
       }
      }
     },
     "metadata": {},
     "output_type": "display_data"
    }
   ],
   "source": [
    "# Column histogram: running order number in the final and number of points\n",
    "import plotly.express as px\n",
    "\n",
    "data = song_data[['final_draw_position','final_total_points','year']]\n",
    "data = data.dropna()\n",
    "data = data.drop(data[data['final_draw_position'] == '-'].index)\n",
    "data['Final running order'] = [int(pos) for pos in data['final_draw_position']]\n",
    "data['Final points'] = [int(point) for point in data['final_total_points']]\n",
    "data = data.reset_index()\n",
    "grouped_data = data.groupby('Final running order').mean().reset_index()\n",
    "\n",
    "fig = px.bar(grouped_data, x='Final running order', y='Final points',\n",
    "                 title='Running Order Number in the Final and the Number of Points Since 2009')\n",
    "fig.show()\n",
    "name = \"running_order_in_final_and_points_column_histogram.html\"\n",
    "fig.write_html(name)"
   ]
  },
  {
   "cell_type": "code",
   "execution_count": null,
   "metadata": {},
   "outputs": [],
   "source": [
    "# Column histogram: running order number in the final and number of victories\n",
    "import pandas as pd\n",
    "import plotly.express as px\n",
    "import numpy as np\n",
    "\n",
    "data = song_data[['final_draw_position','final_place']]\n",
    "data = data.dropna()\n",
    "data = data.drop(data[data['final_place'] == '-'].index)\n",
    "data['Final running order'] = [int(pos) for pos in data['final_draw_position']]\n",
    "data['final_place'] = [int(place) for place in data['final_place']]\n",
    "\n",
    "grouped_data = data.groupby('Final running order').mean().reset_index()\n",
    "\n",
    "counts = []\n",
    "for pos in grouped_data['Final running order']:\n",
    "    count = 0\n",
    "    df = data[data['Final running order'] == pos]\n",
    "    for place in df['final_place']:\n",
    "        if place == 1: count += 1\n",
    "    counts.append(count)\n",
    "\n",
    "grouped_data['Number of victories'] = counts\n",
    "\n",
    "fig = px.bar(grouped_data, x='Final running order', y='Number of victories',\n",
    "                 title='Running Order Number in the Final and the Number of Victories Since 2009')\n",
    "#fig.show()\n",
    "name = \"running_order_in_final_and_number_victories_column_histogram.html\"\n",
    "fig.write_html(name)"
   ]
  },
  {
   "cell_type": "code",
   "execution_count": 126,
   "metadata": {},
   "outputs": [
    {
     "name": "stderr",
     "output_type": "stream",
     "text": [
      "C:\\Users\\henna\\AppData\\Local\\Temp\\ipykernel_13656\\2451496764.py:12: FutureWarning:\n",
      "\n",
      "The default value of numeric_only in DataFrameGroupBy.mean is deprecated. In a future version, numeric_only will default to False. Either specify numeric_only or select only columns which should be valid for the function.\n",
      "\n"
     ]
    }
   ],
   "source": [
    "# Column histogram: running order number and average placement in the final\n",
    "import pandas as pd\n",
    "import plotly.express as px\n",
    "import numpy as np\n",
    "\n",
    "data = song_data[['final_draw_position','final_place']]\n",
    "data = data.dropna()\n",
    "data = data.drop(data[data['final_place'] == '-'].index)\n",
    "data['Final running order'] = [int(pos) for pos in data['final_draw_position']]\n",
    "data['Final place'] = [int(place) for place in data['final_place']]\n",
    "\n",
    "grouped_data = data.groupby('Final running order').mean().reset_index()\n",
    "\n",
    "fig = px.bar(grouped_data, x='Final running order', y='Final place',\n",
    "                 title='Running Order Number and the Average placement in the Final Since 2009')\n",
    "#fig.show()\n",
    "name = \"running_order_and_average_placement_in_final_column_histogram.html\"\n",
    "fig.write_html(name)"
   ]
  },
  {
   "cell_type": "code",
   "execution_count": 125,
   "metadata": {},
   "outputs": [],
   "source": [
    "# Column histogram: running order number in the semi-finals and number of qualifications\n",
    "import pandas as pd\n",
    "import plotly.express as px\n",
    "import numpy as np\n",
    "\n",
    "data = song_data[['semi_draw_position','qualified']]\n",
    "data = data.dropna()\n",
    "data = data.drop(data[data['qualified'] == '-'].index)\n",
    "data['Semi running order'] = [int(pos) for pos in data['semi_draw_position']]\n",
    "\n",
    "grouped_data = data.groupby('Semi running order').mean().reset_index()\n",
    "\n",
    "q = []\n",
    "for place in grouped_data['Semi running order']:\n",
    "    q_place = []\n",
    "    count = data[data['Semi running order'] == place]\n",
    "    for value in count['qualified']:\n",
    "        if value == '1': q_place.append(1)\n",
    "    q.append(sum(q_place))\n",
    "grouped_data['Qualified'] = q\n",
    "grouped_data['In final'] = (grouped_data['Qualified'] / max(grouped_data['Qualified'])) * 100\n",
    "\n",
    "fig = px.bar(grouped_data, x='Semi running order', y='Qualified', color='In final', \n",
    "                 color_continuous_scale='Viridis',\n",
    "                 title='Running Order Number in the Semi-finals and Number of Qualifications Since 2009')\n",
    "#fig.show()\n",
    "name = \"running_order_in_semi_and_qualifications_column_histogram.html\"\n",
    "fig.write_html(name)"
   ]
  },
  {
   "cell_type": "code",
   "execution_count": 124,
   "metadata": {},
   "outputs": [
    {
     "name": "stderr",
     "output_type": "stream",
     "text": [
      "C:\\Users\\henna\\AppData\\Local\\Temp\\ipykernel_13656\\1899789820.py:9: FutureWarning:\n",
      "\n",
      "The default value of numeric_only in DataFrameGroupBy.mean is deprecated. In a future version, numeric_only will default to False. Either specify numeric_only or select only columns which should be valid for the function.\n",
      "\n"
     ]
    }
   ],
   "source": [
    "# Scatterplot: final and nonqualified numbers by country\n",
    "import pandas as pd\n",
    "import plotly.express as px\n",
    "import numpy as np\n",
    "\n",
    "data = song_data[['country','qualified']]\n",
    "data = data.dropna()\n",
    "\n",
    "grouped_data = data.groupby('country').mean().reset_index()\n",
    "grouped_data = grouped_data.sort_values(by=['country']).reset_index()\n",
    "\n",
    "nonq = []\n",
    "q = []\n",
    "for country in grouped_data['country']:\n",
    "    nonq_country = []\n",
    "    q_country = []\n",
    "    count = data[data['country'] == country]\n",
    "    for value in count['qualified']:\n",
    "        if value == '-' or value == '1': q_country.append(1)\n",
    "        else: nonq_country.append(1)\n",
    "    nonq.append(sum(nonq_country))\n",
    "    q.append(sum(q_country))\n",
    "grouped_data['Qualified'] = q\n",
    "grouped_data['Nonqualified'] = nonq\n",
    "grouped_data['In final'] = grouped_data['Qualified'] / (grouped_data['Qualified'] + grouped_data['Nonqualified']) * 100\n",
    "\n",
    "fig = px.scatter(grouped_data, x='Qualified', y='Nonqualified', hover_name='country', text='country', color='In final', \n",
    "                 color_continuous_scale='Viridis',\n",
    "                 title='Qualified and Nonqualified Numbers by Country Since 2009')\n",
    "fig.update_traces(textposition='top center')\n",
    "#fig.show()\n",
    "name = \"qualified_and_nonqualified_numbers_scatter.html\"\n",
    "fig.write_html(name) "
   ]
  },
  {
   "cell_type": "code",
   "execution_count": 33,
   "metadata": {},
   "outputs": [],
   "source": [
    "# Column histogram: average placement by country ALL TIME\n",
    "import pandas as pd\n",
    "import plotly.express as px\n",
    "import numpy as np\n",
    "\n",
    "data = finals[['Country','Place']]\n",
    "\n",
    "grouped_data = data.groupby('Country').mean().reset_index()\n",
    "grouped_data = grouped_data.sort_values(by=['Country']).reset_index()\n",
    "\n",
    "counts = finals['Country'].value_counts().reset_index()\n",
    "counts.columns = ['Country', 'Count']\n",
    "counts = counts.sort_values(by=['Country']).reset_index()\n",
    "\n",
    "data_df = pd.concat([grouped_data,counts['Count']],axis=1)\n",
    "data_df = data_df.sort_values(by=['Place']).reset_index()\n",
    "data_df['Goodness'] = data_df['Count'] / data_df['Place']\n",
    "\n",
    "fig = px.scatter(data_df, x='Place', y='Count', hover_name='Country', text='Country', color='Goodness', \n",
    "                 color_continuous_scale='Viridis',\n",
    "                 title='Average Placement of Every Country in the Final and Numer of Times in the Final')\n",
    "fig.update_traces(textposition='top center')\n",
    "#fig.show()\n",
    "name = \"final_points_and_times_scatter.html\"\n",
    "fig.write_html(name) "
   ]
  },
  {
   "cell_type": "code",
   "execution_count": 39,
   "metadata": {},
   "outputs": [],
   "source": [
    "# Pie chart: average points (in percentages) in the final by year SINCE 2009\n",
    "import plotly.express as px\n",
    "import pandas as pd\n",
    "\n",
    "song_data = song_data.dropna()\n",
    "years = song_data.groupby('year')\n",
    "keys = list(years.groups)\n",
    "\n",
    "for key in keys:\n",
    "    year = years.get_group(key)\n",
    "    pie_title = \"Distribution of Points in Final in \" + str(key)\n",
    "    fig = px.pie(year, values='final_total_points', names='country', title=pie_title)\n",
    "    #fig.show()\n",
    "    name = \"final_points_pie_year/final_points_pie_year_\" + str(key) + \".html\"\n",
    "    fig.write_html(name) \n",
    "\n",
    "fig = px.pie(song_data, values='final_total_points', names='country', title=pie_title)\n",
    "name = \"final_points_pie_year/final_points_pie_year_All.html\"\n",
    "fig.write_html(name) "
   ]
  },
  {
   "cell_type": "code",
   "execution_count": 123,
   "metadata": {},
   "outputs": [],
   "source": [
    "# Pie chart: style of the song by country and year (in percentages) SINCE 2009\n",
    "import plotly.express as px\n",
    "import pandas as pd\n",
    "\n",
    "years = list(range(2009,2023))\n",
    "\n",
    "for year in years:\n",
    "    df = song_data.loc[song_data['year'] == year]\n",
    "    counts = df['style'].value_counts().reset_index()\n",
    "    counts.columns = ['style', 'count']\n",
    "    pie_title = \"Style Distribution of Songs in \" + str(year)\n",
    "    fig = px.pie(counts, values='count', names='style', title=pie_title)\n",
    "    #fig.show()\n",
    "    name = \"style_pie_year/style_pie_year_\" + str(year) + \".html\"\n",
    "    fig.write_html(name) \n",
    "\n",
    "countries = list(song_data['country'].unique())\n",
    "countries = [x for x in countries if str(x) != 'nan']\n",
    "countries = sorted(countries)\n",
    "\n",
    "for country in countries:\n",
    "    df = song_data.loc[song_data['country'] == country]\n",
    "    counts = df['style'].value_counts().reset_index()\n",
    "    counts.columns = ['style', 'count']\n",
    "    pie_title = \"Style Distribution of Songs of \" + str(country) + \" Since 2009\"\n",
    "    fig = px.pie(counts, values='count', names='style', title=pie_title)\n",
    "    #fig.show()\n",
    "    name = \"style_pie_country/style_pie_country_\" + str(country) + \".html\"\n",
    "    fig.write_html(name) \n",
    "\n",
    "counts = song_data['style'].value_counts().reset_index()\n",
    "counts.columns = ['style', 'count']\n",
    "pie_title = \"Style Distribution of All Songs\"\n",
    "fig = px.pie(counts, values='count', names='style', title=pie_title)\n",
    "#fig.show()\n",
    "name = \"style_pie_year/style_pie_year_All.html\"\n",
    "fig.write_html(name) \n",
    "\n",
    "name = \"style_pie_country/style_pie_country_All.html\"\n",
    "fig.write_html(name)"
   ]
  },
  {
   "cell_type": "code",
   "execution_count": 122,
   "metadata": {},
   "outputs": [],
   "source": [
    "# Pie chart: language used by country and year (in percentages) SINCE 2009\n",
    "import plotly.express as px\n",
    "import pandas as pd\n",
    "\n",
    "years = list(range(2009,2023))\n",
    "\n",
    "for year in years:\n",
    "    df = song_data.loc[song_data['year'] == year]\n",
    "    counts = df['language'].value_counts().reset_index()\n",
    "    counts.columns = ['language', 'count']\n",
    "    pie_title = \"Language Distribution of Songs in \" + str(year)\n",
    "    fig = px.pie(counts, values='count', names='language', title=pie_title)\n",
    "    #fig.show()\n",
    "    name = \"language_pie_year/language_pie_year_\" + str(year) + \".html\"\n",
    "    fig.write_html(name) \n",
    "\n",
    "countries = list(song_data['country'].unique())\n",
    "countries = [x for x in countries if str(x) != 'nan']\n",
    "countries = sorted(countries)\n",
    "\n",
    "for country in countries:\n",
    "    df = song_data.loc[song_data['country'] == country]\n",
    "    counts = df['language'].value_counts().reset_index()\n",
    "    counts.columns = ['language', 'count']\n",
    "    pie_title = \"Language Distribution of Songs of \" + str(country) + \" Since 2009\"\n",
    "    fig = px.pie(counts, values='count', names='language', title=pie_title)\n",
    "    #fig.show()\n",
    "    name = \"language_pie_country/language_pie_country_\" + str(country) + \".html\"\n",
    "    fig.write_html(name) \n"
   ]
  },
  {
   "cell_type": "code",
   "execution_count": 121,
   "metadata": {},
   "outputs": [],
   "source": [
    "# Pie chart: female / male as representative by country and year (in percentages) and All SINCE 2009\n",
    "\n",
    "import plotly.express as px\n",
    "import pandas as pd\n",
    "\n",
    "years = list(range(2009,2023))\n",
    "\n",
    "for year in years:\n",
    "    df = song_data.loc[song_data['year'] == year]\n",
    "    counts = df['gender'].value_counts().reset_index()\n",
    "    counts.columns = ['gender', 'count']\n",
    "    pie_title = \"Gender Distribution of Songs in \" + str(year)\n",
    "    fig = px.pie(counts, values='count', names='gender', title=pie_title)\n",
    "    #fig.show()\n",
    "    name = \"gender_pie_year/gender_pie_year_\" + str(year) + \".html\"\n",
    "    fig.write_html(name) \n",
    "\n",
    "countries = list(song_data['country'].unique())\n",
    "countries = [x for x in countries if str(x) != 'nan']\n",
    "countries = sorted(countries)\n",
    "\n",
    "for country in countries:\n",
    "    df = song_data.loc[song_data['country'] == country]\n",
    "    counts = df['gender'].value_counts().reset_index()\n",
    "    counts.columns = ['gender', 'count']\n",
    "    pie_title = \"Gender Distribution of Songs of \" + str(country) + \" Since 2009\"\n",
    "    fig = px.pie(counts, values='count', names='gender', title=pie_title)\n",
    "    #fig.show()\n",
    "    name = \"gender_pie_country/gender_pie_country_\" + str(country) + \".html\"\n",
    "    fig.write_html(name) \n",
    "\n",
    "counts = song_data['gender'].value_counts().reset_index()\n",
    "counts.columns = ['gender', 'count']\n",
    "pie_title = \"Gender Distribution of All Songs\"\n",
    "fig = px.pie(counts, values='count', names='gender', title=pie_title)\n",
    "#fig.show()\n",
    "name = \"gender_pie_year/gender_pie_year_All.html\"\n",
    "fig.write_html(name) \n",
    "\n",
    "name = \"gender_pie_country/gender_pie_country_All.html\"\n",
    "fig.write_html(name)"
   ]
  }
 ],
 "metadata": {
  "kernelspec": {
   "display_name": "Python 3",
   "language": "python",
   "name": "python3"
  },
  "language_info": {
   "codemirror_mode": {
    "name": "ipython",
    "version": 3
   },
   "file_extension": ".py",
   "mimetype": "text/x-python",
   "name": "python",
   "nbconvert_exporter": "python",
   "pygments_lexer": "ipython3",
   "version": "3.10.11"
  },
  "orig_nbformat": 4
 },
 "nbformat": 4,
 "nbformat_minor": 2
}
