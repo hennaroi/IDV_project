{
 "cells": [
  {
   "cell_type": "code",
   "execution_count": 1,
   "metadata": {},
   "outputs": [],
   "source": [
    "import pandas as pd\n",
    "\n",
    "song_data = pd.read_csv('song_data.csv',encoding='windows-1254')\n",
    "\n",
    "eurovision = pd.read_csv('eurovision.csv',encoding='utf-8')\n",
    "\n",
    "finals = pd.read_csv('Eurovision_AllFinals.csv',encoding='latin-1')"
   ]
  },
  {
   "cell_type": "code",
   "execution_count": 2,
   "metadata": {},
   "outputs": [],
   "source": [
    "song_data = song_data.drop(columns=['artist_name', 'song_name', 'race', 'host_10', 'main_singers', 'selection', 'energy',\n",
    "       'danceability', 'happiness', 'loudness', 'acousticness', 'instrumentalness', 'liveness', 'speechiness', 'release_date',\n",
    "       'key_change_10', 'backing_dancers', 'backing_singers', 'backing_instruments', 'instrument_10', 'direct_qualifier_10',\n",
    "       'favourite_10', 'final_televote_votes', 'final_jury_votes'])"
   ]
  },
  {
   "cell_type": "code",
   "execution_count": 3,
   "metadata": {},
   "outputs": [
    {
     "data": {
      "text/plain": [
       "Index(['year', 'semi_draw_position', 'final_draw_position', 'country',\n",
       "       'language', 'style', 'gender', 'age', 'key', 'BPM', 'qualified',\n",
       "       'final_televote_points', 'final_jury_points', 'final_place',\n",
       "       'final_total_points', 'semi_place', 'semi_total_points'],\n",
       "      dtype='object')"
      ]
     },
     "execution_count": 3,
     "metadata": {},
     "output_type": "execute_result"
    }
   ],
   "source": [
    "song_data.columns"
   ]
  },
  {
   "cell_type": "code",
   "execution_count": 4,
   "metadata": {},
   "outputs": [],
   "source": [
    "eurovision = eurovision.drop(columns=['event', 'section', 'event_url', 'artist', 'song', 'artist_url', 'image_url', \n",
    "                                      'country_emoji', 'qualified', 'total_points', 'rank', 'rank_ordinal', 'qualified', 'winner'])"
   ]
  },
  {
   "cell_type": "code",
   "execution_count": 5,
   "metadata": {},
   "outputs": [
    {
     "data": {
      "text/plain": [
       "Index(['host_city', 'year', 'host_country', 'artist_country', 'running_order'], dtype='object')"
      ]
     },
     "execution_count": 5,
     "metadata": {},
     "output_type": "execute_result"
    }
   ],
   "source": [
    "eurovision.columns"
   ]
  },
  {
   "cell_type": "code",
   "execution_count": 6,
   "metadata": {},
   "outputs": [],
   "source": [
    "finals = finals.drop(columns=['Type', 'Performer', 'Song'])"
   ]
  },
  {
   "cell_type": "code",
   "execution_count": 7,
   "metadata": {},
   "outputs": [
    {
     "data": {
      "text/plain": [
       "Index(['Country', 'Year', 'Points', 'Place', 'Draw'], dtype='object')"
      ]
     },
     "execution_count": 7,
     "metadata": {},
     "output_type": "execute_result"
    }
   ],
   "source": [
    "finals.columns"
   ]
  },
  {
   "cell_type": "code",
   "execution_count": 28,
   "metadata": {},
   "outputs": [],
   "source": [
    "path1 = 'C:/Users/henna/OneDrive/Tiedostot/Koulu/Interactive Data Visualization/Project/code/data safe/unprocessed/Final Results/Jury/jury_'\n",
    "path2 = '_results.csv'\n",
    "years = ['2016', '2017', '2018', '2019', '2021', '2022']\n",
    "filename1 = 'points_'\n",
    "filename2 = '.csv'\n",
    "for year in years:\n",
    "    df = pd.read_csv(path1+year+path2)\n",
    "    df = df[['Contestant', 'Total score', 'Jury score', 'Televoting score']]\n",
    "    df.to_csv(filename1+year+filename2, index=0)"
   ]
  },
  {
   "cell_type": "code",
   "execution_count": 166,
   "metadata": {},
   "outputs": [],
   "source": [
    "song_data = pd.read_csv('song_data_processed.csv')\n",
    "song_data['year'] = song_data['year'].fillna(0)\n",
    "song_data['year'] = song_data['year'].astype(int)"
   ]
  },
  {
   "cell_type": "code",
   "execution_count": 168,
   "metadata": {},
   "outputs": [],
   "source": [
    "song_data.to_csv('song_data_processed.csv',index=0)"
   ]
  },
  {
   "cell_type": "code",
   "execution_count": 179,
   "metadata": {},
   "outputs": [],
   "source": [
    "finals = pd.read_csv('finals_processed.csv')\n",
    "finals['Countries'] = [int(variable[len(variable)-3:len(variable)-1]) for variable in finals['Place']]\n",
    "finals['Place'] = [int(variable[0:2]) for variable in finals['Place']]\n",
    "finals.to_csv('finals_processed.csv',index=0)"
   ]
  },
  {
   "cell_type": "code",
   "execution_count": 30,
   "metadata": {},
   "outputs": [],
   "source": [
    "song_data.to_csv('song_data_processed.csv',index=0)\n",
    "eurovision.to_csv('eurovision_processed.csv',index=0)\n",
    "finals.to_csv('finals_processed.csv',index=0)"
   ]
  },
  {
   "cell_type": "code",
   "execution_count": 145,
   "metadata": {},
   "outputs": [],
   "source": [
    "years = ['2016', '2017', '2018', '2019', '2021', '2022']\n",
    "\n",
    "polls_world_path2 = '_eurovisionworld_results.csv'\n",
    "\n",
    "polls_ogae_path2 = '_ogae_results.csv'"
   ]
  },
  {
   "cell_type": "code",
   "execution_count": 146,
   "metadata": {},
   "outputs": [],
   "source": [
    "df_world = pd.read_csv(years[0]+polls_world_path2)\n",
    "df_world = df_world.sort_values(by=['Contestant'])\n",
    "countries = df_world['Contestant']\n",
    "df_world = df_world.set_index(countries)\n",
    "df_world = df_world.drop(columns=['Contestant'])\n",
    "df_world = df_world.rename(columns={\"Votes\": years[0]})\n",
    "\n",
    "for year in years[1:len(years)]:\n",
    "    df_new_world = pd.read_csv(year+polls_world_path2)\n",
    "    df_new_world = df_new_world.sort_values(by=['Contestant'])\n",
    "    countries = df_new_world['Contestant']\n",
    "    df_new_world = df_new_world.set_index(countries)\n",
    "    df_world = pd.concat([df_world,df_new_world],axis=1)\n",
    "    df_world = df_world.drop(columns=['Contestant'])\n",
    "    df_world = df_world.rename(columns={\"Votes\": year})\n",
    "df_world = df_world.fillna(0)"
   ]
  },
  {
   "cell_type": "code",
   "execution_count": 147,
   "metadata": {},
   "outputs": [],
   "source": [
    "df_ogae = pd.read_csv(years[0]+polls_ogae_path2)\n",
    "df_ogae = df_ogae.sort_values(by=['Contestant'])\n",
    "countries = df_ogae['Contestant']\n",
    "df_ogae = df_ogae.set_index(countries)\n",
    "df_ogae = df_ogae.drop(columns=['Contestant'])\n",
    "df_ogae = df_ogae.rename(columns={\"Average Points\": years[0]})\n",
    "\n",
    "for year in years[1:len(years)]:\n",
    "    df_new_ogae = pd.read_csv(year+polls_ogae_path2)\n",
    "    df_new_ogae = df_new_ogae.sort_values(by=['Contestant'])\n",
    "    countries = df_new_ogae['Contestant']\n",
    "    df_new_ogae = df_new_ogae.set_index(countries)\n",
    "    df_ogae = pd.concat([df_ogae,df_new_ogae],axis=1)\n",
    "    df_ogae = df_ogae.drop(columns=['Contestant'])\n",
    "    df_ogae = df_ogae.rename(columns={\"Average Points\": year})\n",
    "df_ogae = df_ogae.fillna(0)"
   ]
  },
  {
   "cell_type": "code",
   "execution_count": 149,
   "metadata": {},
   "outputs": [],
   "source": [
    "df_world.to_csv('eurovisionworld_polls.csv')\n",
    "df_ogae.to_csv('ogae_polls.csv')"
   ]
  }
 ],
 "metadata": {
  "kernelspec": {
   "display_name": "Python 3",
   "language": "python",
   "name": "python3"
  },
  "language_info": {
   "codemirror_mode": {
    "name": "ipython",
    "version": 3
   },
   "file_extension": ".py",
   "mimetype": "text/x-python",
   "name": "python",
   "nbconvert_exporter": "python",
   "pygments_lexer": "ipython3",
   "version": "3.10.10"
  },
  "orig_nbformat": 4
 },
 "nbformat": 4,
 "nbformat_minor": 2
}
